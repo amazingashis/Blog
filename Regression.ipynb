{
  "nbformat": 4,
  "nbformat_minor": 0,
  "metadata": {
    "colab": {
      "name": "Regression.ipynb",
      "provenance": [],
      "collapsed_sections": [],
      "toc_visible": true,
      "mount_file_id": "11ukWQGo0NZzB77GUiox2YdwA7BbWUVFs",
      "authorship_tag": "ABX9TyNQQmVavfx9dWk8ydRhmmkE",
      "include_colab_link": true
    },
    "kernelspec": {
      "name": "python3",
      "display_name": "Python 3"
    }
  },
  "cells": [
    {
      "cell_type": "markdown",
      "metadata": {
        "id": "view-in-github",
        "colab_type": "text"
      },
      "source": [
        "<a href=\"https://colab.research.google.com/github/amazingashis/Blog/blob/main/Regression.ipynb\" target=\"_parent\"><img src=\"https://colab.research.google.com/assets/colab-badge.svg\" alt=\"Open In Colab\"/></a>"
      ]
    },
    {
      "cell_type": "code",
      "metadata": {
        "id": "nlEIVuNEQ_E4"
      },
      "source": [
        "import numpy as np\r\n",
        "import pandas as pd\r\n",
        "import matplotlib.pyplot as plt\r\n",
        "from sklearn.linear_model import LinearRegression\r\n",
        "from sklearn.metrics import mean_squared_error\r\n",
        "import math"
      ],
      "execution_count": 2,
      "outputs": []
    },
    {
      "cell_type": "code",
      "metadata": {
        "colab": {
          "base_uri": "https://localhost:8080/",
          "height": 343
        },
        "id": "HYwlJDvDvZNw",
        "outputId": "10bbf940-a4d2-45dd-925d-39e58a111499"
      },
      "source": [
        "data = pd.read_csv('/content/headbrain.csv')\r\n",
        "\r\n",
        "data.tail(10)"
      ],
      "execution_count": null,
      "outputs": [
        {
          "output_type": "execute_result",
          "data": {
            "text/html": [
              "<div>\n",
              "<style scoped>\n",
              "    .dataframe tbody tr th:only-of-type {\n",
              "        vertical-align: middle;\n",
              "    }\n",
              "\n",
              "    .dataframe tbody tr th {\n",
              "        vertical-align: top;\n",
              "    }\n",
              "\n",
              "    .dataframe thead th {\n",
              "        text-align: right;\n",
              "    }\n",
              "</style>\n",
              "<table border=\"1\" class=\"dataframe\">\n",
              "  <thead>\n",
              "    <tr style=\"text-align: right;\">\n",
              "      <th></th>\n",
              "      <th>Gender</th>\n",
              "      <th>Age Range</th>\n",
              "      <th>Head Size(cm^3)</th>\n",
              "      <th>Brain Weight(grams)</th>\n",
              "    </tr>\n",
              "  </thead>\n",
              "  <tbody>\n",
              "    <tr>\n",
              "      <th>227</th>\n",
              "      <td>2</td>\n",
              "      <td>2</td>\n",
              "      <td>4204</td>\n",
              "      <td>1380</td>\n",
              "    </tr>\n",
              "    <tr>\n",
              "      <th>228</th>\n",
              "      <td>2</td>\n",
              "      <td>2</td>\n",
              "      <td>3735</td>\n",
              "      <td>1350</td>\n",
              "    </tr>\n",
              "    <tr>\n",
              "      <th>229</th>\n",
              "      <td>2</td>\n",
              "      <td>2</td>\n",
              "      <td>3218</td>\n",
              "      <td>1060</td>\n",
              "    </tr>\n",
              "    <tr>\n",
              "      <th>230</th>\n",
              "      <td>2</td>\n",
              "      <td>2</td>\n",
              "      <td>3685</td>\n",
              "      <td>1350</td>\n",
              "    </tr>\n",
              "    <tr>\n",
              "      <th>231</th>\n",
              "      <td>2</td>\n",
              "      <td>2</td>\n",
              "      <td>3704</td>\n",
              "      <td>1220</td>\n",
              "    </tr>\n",
              "    <tr>\n",
              "      <th>232</th>\n",
              "      <td>2</td>\n",
              "      <td>2</td>\n",
              "      <td>3214</td>\n",
              "      <td>1110</td>\n",
              "    </tr>\n",
              "    <tr>\n",
              "      <th>233</th>\n",
              "      <td>2</td>\n",
              "      <td>2</td>\n",
              "      <td>3394</td>\n",
              "      <td>1215</td>\n",
              "    </tr>\n",
              "    <tr>\n",
              "      <th>234</th>\n",
              "      <td>2</td>\n",
              "      <td>2</td>\n",
              "      <td>3233</td>\n",
              "      <td>1104</td>\n",
              "    </tr>\n",
              "    <tr>\n",
              "      <th>235</th>\n",
              "      <td>2</td>\n",
              "      <td>2</td>\n",
              "      <td>3352</td>\n",
              "      <td>1170</td>\n",
              "    </tr>\n",
              "    <tr>\n",
              "      <th>236</th>\n",
              "      <td>2</td>\n",
              "      <td>2</td>\n",
              "      <td>3391</td>\n",
              "      <td>1120</td>\n",
              "    </tr>\n",
              "  </tbody>\n",
              "</table>\n",
              "</div>"
            ],
            "text/plain": [
              "     Gender  Age Range  Head Size(cm^3)  Brain Weight(grams)\n",
              "227       2          2             4204                 1380\n",
              "228       2          2             3735                 1350\n",
              "229       2          2             3218                 1060\n",
              "230       2          2             3685                 1350\n",
              "231       2          2             3704                 1220\n",
              "232       2          2             3214                 1110\n",
              "233       2          2             3394                 1215\n",
              "234       2          2             3233                 1104\n",
              "235       2          2             3352                 1170\n",
              "236       2          2             3391                 1120"
            ]
          },
          "metadata": {
            "tags": []
          },
          "execution_count": 8
        }
      ]
    },
    {
      "cell_type": "code",
      "metadata": {
        "id": "hB5cBh4kvqDZ"
      },
      "source": [
        "x = data[\"Head Size(cm^3)\"]\r\n",
        "y = data[\"Brain Weight(grams)\"]"
      ],
      "execution_count": null,
      "outputs": []
    },
    {
      "cell_type": "code",
      "metadata": {
        "colab": {
          "base_uri": "https://localhost:8080/"
        },
        "id": "MynwoQgiv_Pf",
        "outputId": "29444f3c-12fe-4db7-d307-b4c444de3c62"
      },
      "source": [
        "print(x)\r\n",
        "print(y)"
      ],
      "execution_count": null,
      "outputs": [
        {
          "output_type": "stream",
          "text": [
            "0      4512\n",
            "1      3738\n",
            "2      4261\n",
            "3      3777\n",
            "4      4177\n",
            "       ... \n",
            "232    3214\n",
            "233    3394\n",
            "234    3233\n",
            "235    3352\n",
            "236    3391\n",
            "Name: Head Size(cm^3), Length: 237, dtype: int64\n",
            "0      1530\n",
            "1      1297\n",
            "2      1335\n",
            "3      1282\n",
            "4      1590\n",
            "       ... \n",
            "232    1110\n",
            "233    1215\n",
            "234    1104\n",
            "235    1170\n",
            "236    1120\n",
            "Name: Brain Weight(grams), Length: 237, dtype: int64\n"
          ],
          "name": "stdout"
        }
      ]
    },
    {
      "cell_type": "markdown",
      "metadata": {
        "id": "PlJKJnILw3C9"
      },
      "source": [
        "# **Visualize the data**"
      ]
    },
    {
      "cell_type": "code",
      "metadata": {
        "colab": {
          "base_uri": "https://localhost:8080/",
          "height": 265
        },
        "id": "-7Qn6k7WwGWg",
        "outputId": "34ec73e2-c87b-411f-bc33-e619ffb29e6b"
      },
      "source": [
        "plt.scatter(x,y)\r\n",
        "plt.show()"
      ],
      "execution_count": null,
      "outputs": [
        {
          "output_type": "display_data",
          "data": {
            "image/png": "[encoded data removed]",
            "text/plain": [
              "<Figure size 432x288 with 1 Axes>"
            ]
          },
          "metadata": {
            "tags": [],
            "needs_background": "light"
          }
        }
      ]
    },
    {
      "cell_type": "code",
      "metadata": {
        "colab": {
          "base_uri": "https://localhost:8080/"
        },
        "id": "CwFUsEQKw9sB",
        "outputId": "c2633966-0d1c-45bf-b9ec-07f25cdcb6f3"
      },
      "source": [
        "x = np.array(x)\r\n",
        "x.shape"
      ],
      "execution_count": null,
      "outputs": [
        {
          "output_type": "execute_result",
          "data": {
            "text/plain": [
              "(237,)"
            ]
          },
          "metadata": {
            "tags": []
          },
          "execution_count": 15
        }
      ]
    },
    {
      "cell_type": "markdown",
      "metadata": {
        "id": "KnuuyIk70_s4"
      },
      "source": [
        "# **Sabil**"
      ]
    },
    {
      "cell_type": "code",
      "metadata": {
        "colab": {
          "base_uri": "https://localhost:8080/"
        },
        "id": "JOSinC9Lx96k",
        "outputId": "2d21c52b-33bc-42c3-8e62-634139019ad2"
      },
      "source": [
        "X = np.array(x).reshape(-1,1)\r\n",
        "y = np.array(y).reshape(-1,1)\r\n",
        "X.shape"
      ],
      "execution_count": null,
      "outputs": [
        {
          "output_type": "execute_result",
          "data": {
            "text/plain": [
              "(237, 1)"
            ]
          },
          "metadata": {
            "tags": []
          },
          "execution_count": 17
        }
      ]
    },
    {
      "cell_type": "code",
      "metadata": {
        "colab": {
          "base_uri": "https://localhost:8080/"
        },
        "id": "rE7hP8PtyDPJ",
        "outputId": "b2217ae0-1b60-4302-c869-68a2d30619a8"
      },
      "source": [
        "model = LinearRegression()\r\n",
        "model.fit(X,y)\r\n"
      ],
      "execution_count": null,
      "outputs": [
        {
          "output_type": "execute_result",
          "data": {
            "text/plain": [
              "LinearRegression(copy_X=True, fit_intercept=True, n_jobs=None, normalize=False)"
            ]
          },
          "metadata": {
            "tags": []
          },
          "execution_count": 19
        }
      ]
    },
    {
      "cell_type": "code",
      "metadata": {
        "colab": {
          "base_uri": "https://localhost:8080/"
        },
        "id": "zmZtLwgOxjtJ",
        "outputId": "281bb83c-7721-4683-982f-a46797ab6772"
      },
      "source": [
        "Y_test = [4204,2000]\r\n",
        "print(type(Y_test))\r\n",
        "Y_test = np.array(Y_test).reshape(-1,1)\r\n",
        "Y_val = (model.predict(Y_test))\r\n",
        "Y_val"
      ],
      "execution_count": null,
      "outputs": [
        {
          "output_type": "stream",
          "text": [
            "<class 'list'>\n"
          ],
          "name": "stdout"
        },
        {
          "output_type": "execute_result",
          "data": {
            "text/plain": [
              "array([[1433.03036426],\n",
              "       [ 852.43210003]])"
            ]
          },
          "metadata": {
            "tags": []
          },
          "execution_count": 30
        }
      ]
    },
    {
      "cell_type": "code",
      "metadata": {
        "colab": {
          "base_uri": "https://localhost:8080/"
        },
        "id": "pW9faNunypc9",
        "outputId": "3b75ba6d-78ec-4e06-8bd3-d13aa6cb6e24"
      },
      "source": [
        "print(model.score(X,y))"
      ],
      "execution_count": null,
      "outputs": [
        {
          "output_type": "stream",
          "text": [
            "0.639311719957\n"
          ],
          "name": "stdout"
        }
      ]
    },
    {
      "cell_type": "markdown",
      "metadata": {
        "id": "-_WRRkQ1zk-W"
      },
      "source": [
        "# **Visualize**"
      ]
    },
    {
      "cell_type": "code",
      "metadata": {
        "colab": {
          "base_uri": "https://localhost:8080/",
          "height": 295
        },
        "id": "pWTi0TaaziW_",
        "outputId": "a03d9a1c-a9d3-4242-a894-0afa44b722db"
      },
      "source": [
        "plt.scatter(X,y,color = 'orange')\r\n",
        "plt.plot(X,model.predict(X),color = 'black')\r\n",
        "plt.title(\"Simple Linear Regression\")\r\n",
        "plt.xlabel(\"Brain Size\")\r\n",
        "plt.ylabel(\"Brain Weight\")\r\n",
        "plt.show()"
      ],
      "execution_count": null,
      "outputs": [
        {
          "output_type": "display_data",
          "data": {
            "image/png": "[encoded data removed]",
            "text/plain": [
              "<Figure size 432x288 with 1 Axes>"
            ]
          },
          "metadata": {
            "tags": [],
            "needs_background": "light"
          }
        }
      ]
    },
    {
      "cell_type": "code",
      "metadata": {
        "colab": {
          "base_uri": "https://localhost:8080/"
        },
        "id": "ME-uf_jrzLIw",
        "outputId": "b7325eeb-1e95-4bb8-c366-a8520db749e0"
      },
      "source": [
        "print(model.predict([[2000]]))"
      ],
      "execution_count": null,
      "outputs": [
        {
          "output_type": "stream",
          "text": [
            "[[852.43210003]]\n"
          ],
          "name": "stdout"
        }
      ]
    },
    {
      "cell_type": "code",
      "metadata": {
        "id": "MYU9sdJF0XWB"
      },
      "source": [
        "from sklearn.preprocessing import LabelEncoder,OneHotEncoder"
      ],
      "execution_count": null,
      "outputs": []
    },
    {
      "cell_type": "code",
      "metadata": {
        "colab": {
          "base_uri": "https://localhost:8080/",
          "height": 343
        },
        "id": "C4x21dea2F9B",
        "outputId": "2e10787d-4da3-4af9-805f-daf1d315b8c0"
      },
      "source": [
        "datamul = pd.read_csv('/content/50_Startups.csv')\r\n",
        "datamul.head(10)"
      ],
      "execution_count": null,
      "outputs": [
        {
          "output_type": "execute_result",
          "data": {
            "text/html": [
              "<div>\n",
              "<style scoped>\n",
              "    .dataframe tbody tr th:only-of-type {\n",
              "        vertical-align: middle;\n",
              "    }\n",
              "\n",
              "    .dataframe tbody tr th {\n",
              "        vertical-align: top;\n",
              "    }\n",
              "\n",
              "    .dataframe thead th {\n",
              "        text-align: right;\n",
              "    }\n",
              "</style>\n",
              "<table border=\"1\" class=\"dataframe\">\n",
              "  <thead>\n",
              "    <tr style=\"text-align: right;\">\n",
              "      <th></th>\n",
              "      <th>R&amp;D Spend</th>\n",
              "      <th>Administration</th>\n",
              "      <th>Marketing Spend</th>\n",
              "      <th>State</th>\n",
              "      <th>Profit</th>\n",
              "    </tr>\n",
              "  </thead>\n",
              "  <tbody>\n",
              "    <tr>\n",
              "      <th>0</th>\n",
              "      <td>165349.20</td>\n",
              "      <td>136897.80</td>\n",
              "      <td>471784.10</td>\n",
              "      <td>New York</td>\n",
              "      <td>192261.83</td>\n",
              "    </tr>\n",
              "    <tr>\n",
              "      <th>1</th>\n",
              "      <td>162597.70</td>\n",
              "      <td>151377.59</td>\n",
              "      <td>443898.53</td>\n",
              "      <td>California</td>\n",
              "      <td>191792.06</td>\n",
              "    </tr>\n",
              "    <tr>\n",
              "      <th>2</th>\n",
              "      <td>153441.51</td>\n",
              "      <td>101145.55</td>\n",
              "      <td>407934.54</td>\n",
              "      <td>Florida</td>\n",
              "      <td>191050.39</td>\n",
              "    </tr>\n",
              "    <tr>\n",
              "      <th>3</th>\n",
              "      <td>144372.41</td>\n",
              "      <td>118671.85</td>\n",
              "      <td>383199.62</td>\n",
              "      <td>New York</td>\n",
              "      <td>182901.99</td>\n",
              "    </tr>\n",
              "    <tr>\n",
              "      <th>4</th>\n",
              "      <td>142107.34</td>\n",
              "      <td>91391.77</td>\n",
              "      <td>366168.42</td>\n",
              "      <td>Florida</td>\n",
              "      <td>166187.94</td>\n",
              "    </tr>\n",
              "    <tr>\n",
              "      <th>5</th>\n",
              "      <td>131876.90</td>\n",
              "      <td>99814.71</td>\n",
              "      <td>362861.36</td>\n",
              "      <td>New York</td>\n",
              "      <td>156991.12</td>\n",
              "    </tr>\n",
              "    <tr>\n",
              "      <th>6</th>\n",
              "      <td>134615.46</td>\n",
              "      <td>147198.87</td>\n",
              "      <td>127716.82</td>\n",
              "      <td>California</td>\n",
              "      <td>156122.51</td>\n",
              "    </tr>\n",
              "    <tr>\n",
              "      <th>7</th>\n",
              "      <td>130298.13</td>\n",
              "      <td>145530.06</td>\n",
              "      <td>323876.68</td>\n",
              "      <td>Florida</td>\n",
              "      <td>155752.60</td>\n",
              "    </tr>\n",
              "    <tr>\n",
              "      <th>8</th>\n",
              "      <td>120542.52</td>\n",
              "      <td>148718.95</td>\n",
              "      <td>311613.29</td>\n",
              "      <td>New York</td>\n",
              "      <td>152211.77</td>\n",
              "    </tr>\n",
              "    <tr>\n",
              "      <th>9</th>\n",
              "      <td>123334.88</td>\n",
              "      <td>108679.17</td>\n",
              "      <td>304981.62</td>\n",
              "      <td>California</td>\n",
              "      <td>149759.96</td>\n",
              "    </tr>\n",
              "  </tbody>\n",
              "</table>\n",
              "</div>"
            ],
            "text/plain": [
              "   R&D Spend  Administration  Marketing Spend       State     Profit\n",
              "0  165349.20       136897.80        471784.10    New York  192261.83\n",
              "1  162597.70       151377.59        443898.53  California  191792.06\n",
              "2  153441.51       101145.55        407934.54     Florida  191050.39\n",
              "3  144372.41       118671.85        383199.62    New York  182901.99\n",
              "4  142107.34        91391.77        366168.42     Florida  166187.94\n",
              "5  131876.90        99814.71        362861.36    New York  156991.12\n",
              "6  134615.46       147198.87        127716.82  California  156122.51\n",
              "7  130298.13       145530.06        323876.68     Florida  155752.60\n",
              "8  120542.52       148718.95        311613.29    New York  152211.77\n",
              "9  123334.88       108679.17        304981.62  California  149759.96"
            ]
          },
          "metadata": {
            "tags": []
          },
          "execution_count": 25
        }
      ]
    },
    {
      "cell_type": "code",
      "metadata": {
        "colab": {
          "base_uri": "https://localhost:8080/"
        },
        "id": "NaiACxP-2VaH",
        "outputId": "d0a5d21e-45ee-4006-a9f3-c9685ece93df"
      },
      "source": [
        "X1 = datamul[[\"R&D Spend\",\"Administration\",\"Marketing Spend\",\"State\"]]\r\n",
        "#print(X1)\r\n",
        "print(X1.shape)\r\n",
        "y1 = datamul[\"Profit\"]\r\n",
        "#print(y1)"
      ],
      "execution_count": null,
      "outputs": [
        {
          "output_type": "stream",
          "text": [
            "(50, 4)\n"
          ],
          "name": "stdout"
        }
      ]
    },
    {
      "cell_type": "code",
      "metadata": {
        "colab": {
          "base_uri": "https://localhost:8080/"
        },
        "id": "L7NE53RB2ox2",
        "outputId": "90b9dfbc-153c-493e-9c32-e01680be5165"
      },
      "source": [
        "type(X1)"
      ],
      "execution_count": null,
      "outputs": [
        {
          "output_type": "execute_result",
          "data": {
            "text/plain": [
              "pandas.core.frame.DataFrame"
            ]
          },
          "metadata": {
            "tags": []
          },
          "execution_count": 31
        }
      ]
    },
    {
      "cell_type": "markdown",
      "metadata": {
        "id": "8qsTMQil20uA"
      },
      "source": [
        "# **Preprocessing**"
      ]
    },
    {
      "cell_type": "code",
      "metadata": {
        "colab": {
          "base_uri": "https://localhost:8080/"
        },
        "id": "l8u2AVgp2xiH",
        "outputId": "b5606e4c-bcae-45c0-a18c-6ec31799e2b1"
      },
      "source": [
        "le = LabelEncoder()\r\n",
        "X1[['State']] = le.fit_transform(datamul.State)\r\n",
        "print(X1.values)\r\n"
      ],
      "execution_count": null,
      "outputs": [
        {
          "output_type": "stream",
          "text": [
            "[[1.6534920e+05 1.3689780e+05 4.7178410e+05 2.0000000e+00]\n",
            " [1.6259770e+05 1.5137759e+05 4.4389853e+05 0.0000000e+00]\n",
            " [1.5344151e+05 1.0114555e+05 4.0793454e+05 1.0000000e+00]\n",
            " [1.4437241e+05 1.1867185e+05 3.8319962e+05 2.0000000e+00]\n",
            " [1.4210734e+05 9.1391770e+04 3.6616842e+05 1.0000000e+00]\n",
            " [1.3187690e+05 9.9814710e+04 3.6286136e+05 2.0000000e+00]\n",
            " [1.3461546e+05 1.4719887e+05 1.2771682e+05 0.0000000e+00]\n",
            " [1.3029813e+05 1.4553006e+05 3.2387668e+05 1.0000000e+00]\n",
            " [1.2054252e+05 1.4871895e+05 3.1161329e+05 2.0000000e+00]\n",
            " [1.2333488e+05 1.0867917e+05 3.0498162e+05 0.0000000e+00]\n",
            " [1.0191308e+05 1.1059411e+05 2.2916095e+05 1.0000000e+00]\n",
            " [1.0067196e+05 9.1790610e+04 2.4974455e+05 0.0000000e+00]\n",
            " [9.3863750e+04 1.2732038e+05 2.4983944e+05 1.0000000e+00]\n",
            " [9.1992390e+04 1.3549507e+05 2.5266493e+05 0.0000000e+00]\n",
            " [1.1994324e+05 1.5654742e+05 2.5651292e+05 1.0000000e+00]\n",
            " [1.1452361e+05 1.2261684e+05 2.6177623e+05 2.0000000e+00]\n",
            " [7.8013110e+04 1.2159755e+05 2.6434606e+05 0.0000000e+00]\n",
            " [9.4657160e+04 1.4507758e+05 2.8257431e+05 2.0000000e+00]\n",
            " [9.1749160e+04 1.1417579e+05 2.9491957e+05 1.0000000e+00]\n",
            " [8.6419700e+04 1.5351411e+05 0.0000000e+00 2.0000000e+00]\n",
            " [7.6253860e+04 1.1386730e+05 2.9866447e+05 0.0000000e+00]\n",
            " [7.8389470e+04 1.5377343e+05 2.9973729e+05 2.0000000e+00]\n",
            " [7.3994560e+04 1.2278275e+05 3.0331926e+05 1.0000000e+00]\n",
            " [6.7532530e+04 1.0575103e+05 3.0476873e+05 1.0000000e+00]\n",
            " [7.7044010e+04 9.9281340e+04 1.4057481e+05 2.0000000e+00]\n",
            " [6.4664710e+04 1.3955316e+05 1.3796262e+05 0.0000000e+00]\n",
            " [7.5328870e+04 1.4413598e+05 1.3405007e+05 1.0000000e+00]\n",
            " [7.2107600e+04 1.2786455e+05 3.5318381e+05 2.0000000e+00]\n",
            " [6.6051520e+04 1.8264556e+05 1.1814820e+05 1.0000000e+00]\n",
            " [6.5605480e+04 1.5303206e+05 1.0713838e+05 2.0000000e+00]\n",
            " [6.1994480e+04 1.1564128e+05 9.1131240e+04 1.0000000e+00]\n",
            " [6.1136380e+04 1.5270192e+05 8.8218230e+04 2.0000000e+00]\n",
            " [6.3408860e+04 1.2921961e+05 4.6085250e+04 0.0000000e+00]\n",
            " [5.5493950e+04 1.0305749e+05 2.1463481e+05 1.0000000e+00]\n",
            " [4.6426070e+04 1.5769392e+05 2.1079767e+05 0.0000000e+00]\n",
            " [4.6014020e+04 8.5047440e+04 2.0551764e+05 2.0000000e+00]\n",
            " [2.8663760e+04 1.2705621e+05 2.0112682e+05 1.0000000e+00]\n",
            " [4.4069950e+04 5.1283140e+04 1.9702942e+05 0.0000000e+00]\n",
            " [2.0229590e+04 6.5947930e+04 1.8526510e+05 2.0000000e+00]\n",
            " [3.8558510e+04 8.2982090e+04 1.7499930e+05 0.0000000e+00]\n",
            " [2.8754330e+04 1.1854605e+05 1.7279567e+05 0.0000000e+00]\n",
            " [2.7892920e+04 8.4710770e+04 1.6447071e+05 1.0000000e+00]\n",
            " [2.3640930e+04 9.6189630e+04 1.4800111e+05 0.0000000e+00]\n",
            " [1.5505730e+04 1.2738230e+05 3.5534170e+04 2.0000000e+00]\n",
            " [2.2177740e+04 1.5480614e+05 2.8334720e+04 0.0000000e+00]\n",
            " [1.0002300e+03 1.2415304e+05 1.9039300e+03 2.0000000e+00]\n",
            " [1.3154600e+03 1.1581621e+05 2.9711446e+05 1.0000000e+00]\n",
            " [0.0000000e+00 1.3542692e+05 0.0000000e+00 0.0000000e+00]\n",
            " [5.4205000e+02 5.1743150e+04 0.0000000e+00 2.0000000e+00]\n",
            " [0.0000000e+00 1.1698380e+05 4.5173060e+04 0.0000000e+00]]\n"
          ],
          "name": "stdout"
        },
        {
          "output_type": "stream",
          "text": [
            "/usr/local/lib/python3.6/dist-packages/ipykernel_launcher.py:2: SettingWithCopyWarning: \n",
            "A value is trying to be set on a copy of a slice from a DataFrame.\n",
            "Try using .loc[row_indexer,col_indexer] = value instead\n",
            "\n",
            "See the caveats in the documentation: https://pandas.pydata.org/pandas-docs/stable/user_guide/indexing.html#returning-a-view-versus-a-copy\n",
            "  \n",
            "/usr/local/lib/python3.6/dist-packages/pandas/core/indexing.py:1743: SettingWithCopyWarning: \n",
            "A value is trying to be set on a copy of a slice from a DataFrame.\n",
            "Try using .loc[row_indexer,col_indexer] = value instead\n",
            "\n",
            "See the caveats in the documentation: https://pandas.pydata.org/pandas-docs/stable/user_guide/indexing.html#returning-a-view-versus-a-copy\n",
            "  isetter(ilocs[0], value)\n"
          ],
          "name": "stderr"
        }
      ]
    },
    {
      "cell_type": "code",
      "metadata": {
        "id": "eLMqbVrZ4Ome"
      },
      "source": [
        "from sklearn.compose import ColumnTransformer"
      ],
      "execution_count": null,
      "outputs": []
    },
    {
      "cell_type": "code",
      "metadata": {
        "colab": {
          "base_uri": "https://localhost:8080/"
        },
        "id": "QMLDSfHU3USG",
        "outputId": "2c62b87d-2a9f-486a-efdd-24b9c63022b8"
      },
      "source": [
        "st = ColumnTransformer([(\"State\", OneHotEncoder(), [3])], remainder = 'passthrough')\r\n",
        "X1 = st.fit_transform(X1)\r\n",
        "print(X1)"
      ],
      "execution_count": null,
      "outputs": [
        {
          "output_type": "stream",
          "text": [
            "[[0.0000000e+00 0.0000000e+00 1.0000000e+00 1.6534920e+05 1.3689780e+05\n",
            "  4.7178410e+05]\n",
            " [1.0000000e+00 0.0000000e+00 0.0000000e+00 1.6259770e+05 1.5137759e+05\n",
            "  4.4389853e+05]\n",
            " [0.0000000e+00 1.0000000e+00 0.0000000e+00 1.5344151e+05 1.0114555e+05\n",
            "  4.0793454e+05]\n",
            " [0.0000000e+00 0.0000000e+00 1.0000000e+00 1.4437241e+05 1.1867185e+05\n",
            "  3.8319962e+05]\n",
            " [0.0000000e+00 1.0000000e+00 0.0000000e+00 1.4210734e+05 9.1391770e+04\n",
            "  3.6616842e+05]\n",
            " [0.0000000e+00 0.0000000e+00 1.0000000e+00 1.3187690e+05 9.9814710e+04\n",
            "  3.6286136e+05]\n",
            " [1.0000000e+00 0.0000000e+00 0.0000000e+00 1.3461546e+05 1.4719887e+05\n",
            "  1.2771682e+05]\n",
            " [0.0000000e+00 1.0000000e+00 0.0000000e+00 1.3029813e+05 1.4553006e+05\n",
            "  3.2387668e+05]\n",
            " [0.0000000e+00 0.0000000e+00 1.0000000e+00 1.2054252e+05 1.4871895e+05\n",
            "  3.1161329e+05]\n",
            " [1.0000000e+00 0.0000000e+00 0.0000000e+00 1.2333488e+05 1.0867917e+05\n",
            "  3.0498162e+05]\n",
            " [0.0000000e+00 1.0000000e+00 0.0000000e+00 1.0191308e+05 1.1059411e+05\n",
            "  2.2916095e+05]\n",
            " [1.0000000e+00 0.0000000e+00 0.0000000e+00 1.0067196e+05 9.1790610e+04\n",
            "  2.4974455e+05]\n",
            " [0.0000000e+00 1.0000000e+00 0.0000000e+00 9.3863750e+04 1.2732038e+05\n",
            "  2.4983944e+05]\n",
            " [1.0000000e+00 0.0000000e+00 0.0000000e+00 9.1992390e+04 1.3549507e+05\n",
            "  2.5266493e+05]\n",
            " [0.0000000e+00 1.0000000e+00 0.0000000e+00 1.1994324e+05 1.5654742e+05\n",
            "  2.5651292e+05]\n",
            " [0.0000000e+00 0.0000000e+00 1.0000000e+00 1.1452361e+05 1.2261684e+05\n",
            "  2.6177623e+05]\n",
            " [1.0000000e+00 0.0000000e+00 0.0000000e+00 7.8013110e+04 1.2159755e+05\n",
            "  2.6434606e+05]\n",
            " [0.0000000e+00 0.0000000e+00 1.0000000e+00 9.4657160e+04 1.4507758e+05\n",
            "  2.8257431e+05]\n",
            " [0.0000000e+00 1.0000000e+00 0.0000000e+00 9.1749160e+04 1.1417579e+05\n",
            "  2.9491957e+05]\n",
            " [0.0000000e+00 0.0000000e+00 1.0000000e+00 8.6419700e+04 1.5351411e+05\n",
            "  0.0000000e+00]\n",
            " [1.0000000e+00 0.0000000e+00 0.0000000e+00 7.6253860e+04 1.1386730e+05\n",
            "  2.9866447e+05]\n",
            " [0.0000000e+00 0.0000000e+00 1.0000000e+00 7.8389470e+04 1.5377343e+05\n",
            "  2.9973729e+05]\n",
            " [0.0000000e+00 1.0000000e+00 0.0000000e+00 7.3994560e+04 1.2278275e+05\n",
            "  3.0331926e+05]\n",
            " [0.0000000e+00 1.0000000e+00 0.0000000e+00 6.7532530e+04 1.0575103e+05\n",
            "  3.0476873e+05]\n",
            " [0.0000000e+00 0.0000000e+00 1.0000000e+00 7.7044010e+04 9.9281340e+04\n",
            "  1.4057481e+05]\n",
            " [1.0000000e+00 0.0000000e+00 0.0000000e+00 6.4664710e+04 1.3955316e+05\n",
            "  1.3796262e+05]\n",
            " [0.0000000e+00 1.0000000e+00 0.0000000e+00 7.5328870e+04 1.4413598e+05\n",
            "  1.3405007e+05]\n",
            " [0.0000000e+00 0.0000000e+00 1.0000000e+00 7.2107600e+04 1.2786455e+05\n",
            "  3.5318381e+05]\n",
            " [0.0000000e+00 1.0000000e+00 0.0000000e+00 6.6051520e+04 1.8264556e+05\n",
            "  1.1814820e+05]\n",
            " [0.0000000e+00 0.0000000e+00 1.0000000e+00 6.5605480e+04 1.5303206e+05\n",
            "  1.0713838e+05]\n",
            " [0.0000000e+00 1.0000000e+00 0.0000000e+00 6.1994480e+04 1.1564128e+05\n",
            "  9.1131240e+04]\n",
            " [0.0000000e+00 0.0000000e+00 1.0000000e+00 6.1136380e+04 1.5270192e+05\n",
            "  8.8218230e+04]\n",
            " [1.0000000e+00 0.0000000e+00 0.0000000e+00 6.3408860e+04 1.2921961e+05\n",
            "  4.6085250e+04]\n",
            " [0.0000000e+00 1.0000000e+00 0.0000000e+00 5.5493950e+04 1.0305749e+05\n",
            "  2.1463481e+05]\n",
            " [1.0000000e+00 0.0000000e+00 0.0000000e+00 4.6426070e+04 1.5769392e+05\n",
            "  2.1079767e+05]\n",
            " [0.0000000e+00 0.0000000e+00 1.0000000e+00 4.6014020e+04 8.5047440e+04\n",
            "  2.0551764e+05]\n",
            " [0.0000000e+00 1.0000000e+00 0.0000000e+00 2.8663760e+04 1.2705621e+05\n",
            "  2.0112682e+05]\n",
            " [1.0000000e+00 0.0000000e+00 0.0000000e+00 4.4069950e+04 5.1283140e+04\n",
            "  1.9702942e+05]\n",
            " [0.0000000e+00 0.0000000e+00 1.0000000e+00 2.0229590e+04 6.5947930e+04\n",
            "  1.8526510e+05]\n",
            " [1.0000000e+00 0.0000000e+00 0.0000000e+00 3.8558510e+04 8.2982090e+04\n",
            "  1.7499930e+05]\n",
            " [1.0000000e+00 0.0000000e+00 0.0000000e+00 2.8754330e+04 1.1854605e+05\n",
            "  1.7279567e+05]\n",
            " [0.0000000e+00 1.0000000e+00 0.0000000e+00 2.7892920e+04 8.4710770e+04\n",
            "  1.6447071e+05]\n",
            " [1.0000000e+00 0.0000000e+00 0.0000000e+00 2.3640930e+04 9.6189630e+04\n",
            "  1.4800111e+05]\n",
            " [0.0000000e+00 0.0000000e+00 1.0000000e+00 1.5505730e+04 1.2738230e+05\n",
            "  3.5534170e+04]\n",
            " [1.0000000e+00 0.0000000e+00 0.0000000e+00 2.2177740e+04 1.5480614e+05\n",
            "  2.8334720e+04]\n",
            " [0.0000000e+00 0.0000000e+00 1.0000000e+00 1.0002300e+03 1.2415304e+05\n",
            "  1.9039300e+03]\n",
            " [0.0000000e+00 1.0000000e+00 0.0000000e+00 1.3154600e+03 1.1581621e+05\n",
            "  2.9711446e+05]\n",
            " [1.0000000e+00 0.0000000e+00 0.0000000e+00 0.0000000e+00 1.3542692e+05\n",
            "  0.0000000e+00]\n",
            " [0.0000000e+00 0.0000000e+00 1.0000000e+00 5.4205000e+02 5.1743150e+04\n",
            "  0.0000000e+00]\n",
            " [1.0000000e+00 0.0000000e+00 0.0000000e+00 0.0000000e+00 1.1698380e+05\n",
            "  4.5173060e+04]]\n"
          ],
          "name": "stdout"
        }
      ]
    },
    {
      "cell_type": "code",
      "metadata": {
        "id": "QZJRA97f4HZm"
      },
      "source": [
        "from sklearn.model_selection import train_test_split\r\n",
        "X_train, X_test, y_train, y_test = train_test_split(X1,y1, test_size=0.2, random_state=0)"
      ],
      "execution_count": null,
      "outputs": []
    },
    {
      "cell_type": "code",
      "metadata": {
        "colab": {
          "base_uri": "https://localhost:8080/"
        },
        "id": "OoVmfyxb6pxr",
        "outputId": "828aab70-f2f4-40d3-c865-392d13ef92a5"
      },
      "source": [
        "model = LinearRegression()\r\n",
        "model.fit(X_train,y_train)"
      ],
      "execution_count": null,
      "outputs": [
        {
          "output_type": "execute_result",
          "data": {
            "text/plain": [
              "LinearRegression(copy_X=True, fit_intercept=True, n_jobs=None, normalize=False)"
            ]
          },
          "metadata": {
            "tags": []
          },
          "execution_count": 51
        }
      ]
    },
    {
      "cell_type": "code",
      "metadata": {
        "id": "-kivVuJ76zXJ"
      },
      "source": [
        "y_pred = model.predict(X_test)"
      ],
      "execution_count": null,
      "outputs": []
    },
    {
      "cell_type": "code",
      "metadata": {
        "colab": {
          "base_uri": "https://localhost:8080/"
        },
        "id": "PGwJDbLp69zQ",
        "outputId": "b5f7d6f5-dd99-48ba-dffd-e36deaa56922"
      },
      "source": [
        "print(y_pred.sum().mean())\r\n",
        "print(y_test.sum().mean())"
      ],
      "execution_count": null,
      "outputs": [
        {
          "output_type": "stream",
          "text": [
            "1187656.572654463\n",
            "1222774.07\n"
          ],
          "name": "stdout"
        }
      ]
    },
    {
      "cell_type": "markdown",
      "metadata": {
        "id": "AMEgYy-R7U3e"
      },
      "source": [
        "# **Accuracy**"
      ]
    },
    {
      "cell_type": "code",
      "metadata": {
        "colab": {
          "base_uri": "https://localhost:8080/"
        },
        "id": "zrKgfVSO7SvR",
        "outputId": "e554b66a-26e1-473f-9532-364e6a8311a8"
      },
      "source": [
        "print(\" Accuracy \", y_pred.sum().mean()/y_test.sum().mean())"
      ],
      "execution_count": null,
      "outputs": [
        {
          "output_type": "stream",
          "text": [
            " Accuracy  0.9712804693793211\n"
          ],
          "name": "stdout"
        }
      ]
    },
    {
      "cell_type": "markdown",
      "metadata": {
        "id": "Pv6Et8jMsuY0"
      },
      "source": [
        "# **Polynomial Regression**"
      ]
    },
    {
      "cell_type": "code",
      "metadata": {
        "id": "GxtyS9rs7eyl",
        "colab": {
          "base_uri": "https://localhost:8080/",
          "height": 195
        },
        "outputId": "c5a1ca2d-bd4b-4015-9e95-9f4603ffc0a0"
      },
      "source": [
        "data = pd.read_csv(\"/content/Drugs_Performance.csv\")\r\n",
        "data.head()"
      ],
      "execution_count": null,
      "outputs": [
        {
          "output_type": "execute_result",
          "data": {
            "text/html": [
              "<div>\n",
              "<style scoped>\n",
              "    .dataframe tbody tr th:only-of-type {\n",
              "        vertical-align: middle;\n",
              "    }\n",
              "\n",
              "    .dataframe tbody tr th {\n",
              "        vertical-align: top;\n",
              "    }\n",
              "\n",
              "    .dataframe thead th {\n",
              "        text-align: right;\n",
              "    }\n",
              "</style>\n",
              "<table border=\"1\" class=\"dataframe\">\n",
              "  <thead>\n",
              "    <tr style=\"text-align: right;\">\n",
              "      <th></th>\n",
              "      <th>Age</th>\n",
              "      <th>Drugs_Perf</th>\n",
              "    </tr>\n",
              "  </thead>\n",
              "  <tbody>\n",
              "    <tr>\n",
              "      <th>0</th>\n",
              "      <td>1</td>\n",
              "      <td>1.166667</td>\n",
              "    </tr>\n",
              "    <tr>\n",
              "      <th>1</th>\n",
              "      <td>2</td>\n",
              "      <td>1.833333</td>\n",
              "    </tr>\n",
              "    <tr>\n",
              "      <th>2</th>\n",
              "      <td>3</td>\n",
              "      <td>2.833333</td>\n",
              "    </tr>\n",
              "    <tr>\n",
              "      <th>3</th>\n",
              "      <td>4</td>\n",
              "      <td>4.166667</td>\n",
              "    </tr>\n",
              "    <tr>\n",
              "      <th>4</th>\n",
              "      <td>5</td>\n",
              "      <td>5.833333</td>\n",
              "    </tr>\n",
              "  </tbody>\n",
              "</table>\n",
              "</div>"
            ],
            "text/plain": [
              "   Age  Drugs_Perf\n",
              "0    1    1.166667\n",
              "1    2    1.833333\n",
              "2    3    2.833333\n",
              "3    4    4.166667\n",
              "4    5    5.833333"
            ]
          },
          "metadata": {
            "tags": []
          },
          "execution_count": 3
        }
      ]
    },
    {
      "cell_type": "code",
      "metadata": {
        "id": "Y75oIDUks6Ch"
      },
      "source": [
        "X = data[\"Age\"].values\r\n",
        "Y = data[\"Drugs_Perf\"].values"
      ],
      "execution_count": null,
      "outputs": []
    },
    {
      "cell_type": "code",
      "metadata": {
        "colab": {
          "base_uri": "https://localhost:8080/"
        },
        "id": "JCqfxKx5tJx5",
        "outputId": "37e624af-e621-4833-f01f-895281b954a0"
      },
      "source": [
        "X"
      ],
      "execution_count": null,
      "outputs": [
        {
          "output_type": "execute_result",
          "data": {
            "text/plain": [
              "array([ 1,  2,  3,  4,  5,  6,  7,  8,  9, 10, 11, 12, 13, 14, 15, 16, 17,\n",
              "       18, 19, 20, 21, 22, 23, 24, 25, 26, 27, 28, 29, 30, 31, 32, 33, 34,\n",
              "       35, 36, 37, 38, 39, 40, 41, 42, 43, 44, 45, 46, 47, 48, 49, 50, 51,\n",
              "       52, 53, 54, 55, 56, 57, 58, 59, 60, 61, 62, 63, 64, 65, 66, 67, 68,\n",
              "       69, 70, 71, 72, 73, 74, 75, 76, 77, 78, 79, 80, 81, 82, 83, 84])"
            ]
          },
          "metadata": {
            "tags": []
          },
          "execution_count": 5
        }
      ]
    },
    {
      "cell_type": "code",
      "metadata": {
        "colab": {
          "base_uri": "https://localhost:8080/"
        },
        "id": "7fWQlqWKtKzJ",
        "outputId": "b6aece32-a52b-4e81-83dc-758cba839951"
      },
      "source": [
        "type(X)"
      ],
      "execution_count": null,
      "outputs": [
        {
          "output_type": "execute_result",
          "data": {
            "text/plain": [
              "numpy.ndarray"
            ]
          },
          "metadata": {
            "tags": []
          },
          "execution_count": 6
        }
      ]
    },
    {
      "cell_type": "code",
      "metadata": {
        "colab": {
          "base_uri": "https://localhost:8080/"
        },
        "id": "DKDrwOGdtMyn",
        "outputId": "ad019284-dead-4d8b-9c17-7ac2581b309f"
      },
      "source": [
        "X.shape"
      ],
      "execution_count": null,
      "outputs": [
        {
          "output_type": "execute_result",
          "data": {
            "text/plain": [
              "(84,)"
            ]
          },
          "metadata": {
            "tags": []
          },
          "execution_count": 7
        }
      ]
    },
    {
      "cell_type": "code",
      "metadata": {
        "id": "RneY0jEhtQU4"
      },
      "source": [
        "X = np.array(X).reshape(-1,1)\r\n",
        "Y = np.array(Y).reshape(-1,1)"
      ],
      "execution_count": null,
      "outputs": []
    },
    {
      "cell_type": "code",
      "metadata": {
        "colab": {
          "base_uri": "https://localhost:8080/",
          "height": 265
        },
        "id": "Cbcpe7rCtUIO",
        "outputId": "b081843b-d533-4811-aa4b-934b29a563c7"
      },
      "source": [
        "plt.scatter(X,Y)\r\n",
        "plt.show()"
      ],
      "execution_count": null,
      "outputs": [
        {
          "output_type": "display_data",
          "data": {
            "image/png": "[encoded data removed]",
            "text/plain": [
              "<Figure size 432x288 with 1 Axes>"
            ]
          },
          "metadata": {
            "tags": [],
            "needs_background": "light"
          }
        }
      ]
    },
    {
      "cell_type": "code",
      "metadata": {
        "id": "IlPbauxHuNjW"
      },
      "source": [
        "from sklearn.model_selection import train_test_split"
      ],
      "execution_count": null,
      "outputs": []
    },
    {
      "cell_type": "code",
      "metadata": {
        "id": "96JRcnWCtWjG"
      },
      "source": [
        "from sklearn.preprocessing import PolynomialFeatures\r\n",
        "from sklearn.model_selection import train_test_split"
      ],
      "execution_count": null,
      "outputs": []
    },
    {
      "cell_type": "code",
      "metadata": {
        "id": "D7__O1ZNuc5-"
      },
      "source": [
        "X_train,X_test,Y_train,Y_test = train_test_split(X,Y, test_size=0.2)"
      ],
      "execution_count": null,
      "outputs": []
    },
    {
      "cell_type": "code",
      "metadata": {
        "colab": {
          "base_uri": "https://localhost:8080/"
        },
        "id": "BrI2qTiut_gK",
        "outputId": "11c41fd1-a2be-488e-8da3-e480f5bfcfc2"
      },
      "source": [
        "poly = PolynomialFeatures(degree=2)\r\n",
        "X_poly = poly.fit_transform(X_train)\r\n",
        "poly.fit(X_poly,Y_train)"
      ],
      "execution_count": null,
      "outputs": [
        {
          "output_type": "execute_result",
          "data": {
            "text/plain": [
              "PolynomialFeatures(degree=2, include_bias=True, interaction_only=False,\n",
              "                   order='C')"
            ]
          },
          "metadata": {
            "tags": []
          },
          "execution_count": 22
        }
      ]
    },
    {
      "cell_type": "code",
      "metadata": {
        "colab": {
          "base_uri": "https://localhost:8080/"
        },
        "id": "GFqPcUBduvjM",
        "outputId": "af0b54a5-fb3a-410b-9ecb-93daeb0185bd"
      },
      "source": [
        "model = LinearRegression()\r\n",
        "model.fit(X_poly,Y_train)"
      ],
      "execution_count": null,
      "outputs": [
        {
          "output_type": "execute_result",
          "data": {
            "text/plain": [
              "LinearRegression(copy_X=True, fit_intercept=True, n_jobs=None, normalize=False)"
            ]
          },
          "metadata": {
            "tags": []
          },
          "execution_count": 25
        }
      ]
    },
    {
      "cell_type": "code",
      "metadata": {
        "colab": {
          "base_uri": "https://localhost:8080/",
          "height": 312
        },
        "id": "Lu_qpR6bu5BC",
        "outputId": "c47ea00c-454e-4d32-f1ff-adea2e1f421d"
      },
      "source": [
        "plt.scatter(X,Y, color = 'orange')\r\n",
        "plt.plot(X,model.predict(poly.fit_transform(X)), color = 'black')\r\n",
        "plt.title('Polynomial Regression')\r\n",
        "plt.xlabel('Age')\r\n",
        "plt.ylabel('Drugs Performance')"
      ],
      "execution_count": null,
      "outputs": [
        {
          "output_type": "execute_result",
          "data": {
            "text/plain": [
              "Text(0, 0.5, 'Drugs Performance')"
            ]
          },
          "metadata": {
            "tags": []
          },
          "execution_count": 27
        },
        {
          "output_type": "display_data",
          "data": {
            "image/png": "[encoded data removed]",
            "text/plain": [
              "<Figure size 432x288 with 1 Axes>"
            ]
          },
          "metadata": {
            "tags": [],
            "needs_background": "light"
          }
        }
      ]
    },
    {
      "cell_type": "markdown",
      "metadata": {
        "id": "fifDpR5HN3DN"
      },
      "source": [
        "# **Support Vector Regression**"
      ]
    },
    {
      "cell_type": "code",
      "metadata": {
        "id": "3SjP6weLN2OI"
      },
      "source": [
        "from sklearn.svm import SVR"
      ],
      "execution_count": 1,
      "outputs": []
    },
    {
      "cell_type": "code",
      "metadata": {
        "id": "8redfXscvNXY",
        "colab": {
          "base_uri": "https://localhost:8080/",
          "height": 195
        },
        "outputId": "04c1c771-2358-4195-e046-52dcdcd07633"
      },
      "source": [
        "data = pd.read_csv('/content/Position_Salaries.csv')\r\n",
        "data.head()"
      ],
      "execution_count": 3,
      "outputs": [
        {
          "output_type": "execute_result",
          "data": {
            "text/html": [
              "<div>\n",
              "<style scoped>\n",
              "    .dataframe tbody tr th:only-of-type {\n",
              "        vertical-align: middle;\n",
              "    }\n",
              "\n",
              "    .dataframe tbody tr th {\n",
              "        vertical-align: top;\n",
              "    }\n",
              "\n",
              "    .dataframe thead th {\n",
              "        text-align: right;\n",
              "    }\n",
              "</style>\n",
              "<table border=\"1\" class=\"dataframe\">\n",
              "  <thead>\n",
              "    <tr style=\"text-align: right;\">\n",
              "      <th></th>\n",
              "      <th>Position</th>\n",
              "      <th>Level</th>\n",
              "      <th>Salary</th>\n",
              "    </tr>\n",
              "  </thead>\n",
              "  <tbody>\n",
              "    <tr>\n",
              "      <th>0</th>\n",
              "      <td>Business Analyst</td>\n",
              "      <td>1</td>\n",
              "      <td>45000</td>\n",
              "    </tr>\n",
              "    <tr>\n",
              "      <th>1</th>\n",
              "      <td>Junior Consultant</td>\n",
              "      <td>2</td>\n",
              "      <td>50000</td>\n",
              "    </tr>\n",
              "    <tr>\n",
              "      <th>2</th>\n",
              "      <td>Senior Consultant</td>\n",
              "      <td>3</td>\n",
              "      <td>60000</td>\n",
              "    </tr>\n",
              "    <tr>\n",
              "      <th>3</th>\n",
              "      <td>Manager</td>\n",
              "      <td>4</td>\n",
              "      <td>80000</td>\n",
              "    </tr>\n",
              "    <tr>\n",
              "      <th>4</th>\n",
              "      <td>Country Manager</td>\n",
              "      <td>5</td>\n",
              "      <td>110000</td>\n",
              "    </tr>\n",
              "  </tbody>\n",
              "</table>\n",
              "</div>"
            ],
            "text/plain": [
              "            Position  Level  Salary\n",
              "0   Business Analyst      1   45000\n",
              "1  Junior Consultant      2   50000\n",
              "2  Senior Consultant      3   60000\n",
              "3            Manager      4   80000\n",
              "4    Country Manager      5  110000"
            ]
          },
          "metadata": {
            "tags": []
          },
          "execution_count": 3
        }
      ]
    },
    {
      "cell_type": "code",
      "metadata": {
        "id": "xMAf9imzTjKB"
      },
      "source": [
        "X = data[\"Level\"].astype(float)\r\n",
        "X = np.array(X).reshape(-1,1)\r\n",
        "Y = data['Salary'].astype(float)\r\n",
        "Y = np.array(Y).reshape(-1,1)"
      ],
      "execution_count": 17,
      "outputs": []
    },
    {
      "cell_type": "code",
      "metadata": {
        "colab": {
          "base_uri": "https://localhost:8080/"
        },
        "id": "vwut0NcWUMlk",
        "outputId": "948647a7-167f-4319-de78-587ef9ab24b8"
      },
      "source": [
        "print(X)"
      ],
      "execution_count": 15,
      "outputs": [
        {
          "output_type": "stream",
          "text": [
            "[[ 1.]\n",
            " [ 2.]\n",
            " [ 3.]\n",
            " [ 4.]\n",
            " [ 5.]\n",
            " [ 6.]\n",
            " [ 7.]\n",
            " [ 8.]\n",
            " [ 9.]\n",
            " [10.]]\n"
          ],
          "name": "stdout"
        }
      ]
    },
    {
      "cell_type": "markdown",
      "metadata": {
        "id": "TCTm13EJT7fX"
      },
      "source": [
        "# **Feature Scaling**"
      ]
    },
    {
      "cell_type": "code",
      "metadata": {
        "id": "06rmo8iMTrhI"
      },
      "source": [
        "from sklearn.preprocessing import StandardScaler"
      ],
      "execution_count": 7,
      "outputs": []
    },
    {
      "cell_type": "code",
      "metadata": {
        "id": "WxOKLOu6UBri"
      },
      "source": [
        "scaler_X = StandardScaler()\r\n",
        "X = scaler_X.fit_transform(X)\r\n",
        "scaler_Y = StandardScaler()\r\n",
        "Y = scaler_Y.fit_transform(Y)"
      ],
      "execution_count": 19,
      "outputs": []
    },
    {
      "cell_type": "code",
      "metadata": {
        "colab": {
          "base_uri": "https://localhost:8080/"
        },
        "id": "De1Ay1oqUe7L",
        "outputId": "f15ba410-19b7-4fa4-dcb4-82fa2fedceca"
      },
      "source": [
        "print(Y)\r\n",
        "print(X)"
      ],
      "execution_count": 26,
      "outputs": [
        {
          "output_type": "stream",
          "text": [
            "[[-0.72004253]\n",
            " [-0.70243757]\n",
            " [-0.66722767]\n",
            " [-0.59680786]\n",
            " [-0.49117815]\n",
            " [-0.35033854]\n",
            " [-0.17428902]\n",
            " [ 0.17781001]\n",
            " [ 0.88200808]\n",
            " [ 2.64250325]]\n",
            "[[-1.5666989 ]\n",
            " [-1.21854359]\n",
            " [-0.87038828]\n",
            " [-0.52223297]\n",
            " [-0.17407766]\n",
            " [ 0.17407766]\n",
            " [ 0.52223297]\n",
            " [ 0.87038828]\n",
            " [ 1.21854359]\n",
            " [ 1.5666989 ]]\n"
          ],
          "name": "stdout"
        }
      ]
    },
    {
      "cell_type": "code",
      "metadata": {
        "colab": {
          "base_uri": "https://localhost:8080/"
        },
        "id": "Jg53KT-PVPjo",
        "outputId": "249748d9-fbbd-4594-f6b6-00ea1fa523ce"
      },
      "source": [
        "model = SVR(kernel = 'rbf')\r\n",
        "model.fit(X,Y)"
      ],
      "execution_count": 23,
      "outputs": [
        {
          "output_type": "stream",
          "text": [
            "/usr/local/lib/python3.6/dist-packages/sklearn/utils/validation.py:760: DataConversionWarning: A column-vector y was passed when a 1d array was expected. Please change the shape of y to (n_samples, ), for example using ravel().\n",
            "  y = column_or_1d(y, warn=True)\n"
          ],
          "name": "stderr"
        },
        {
          "output_type": "execute_result",
          "data": {
            "text/plain": [
              "SVR(C=1.0, cache_size=200, coef0=0.0, degree=3, epsilon=0.1, gamma='scale',\n",
              "    kernel='rbf', max_iter=-1, shrinking=True, tol=0.001, verbose=False)"
            ]
          },
          "metadata": {
            "tags": []
          },
          "execution_count": 23
        }
      ]
    },
    {
      "cell_type": "code",
      "metadata": {
        "colab": {
          "base_uri": "https://localhost:8080/",
          "height": 312
        },
        "id": "b2MCsExuVmmu",
        "outputId": "ab4c7828-0803-4ff6-974b-2b37f4dcde81"
      },
      "source": [
        "X_grid = np.arange(min(X), max(X), 0.1)\r\n",
        "print(X_grid.shape)\r\n",
        "X_grid = X_grid.reshape((len(X_grid), 1))\r\n",
        "plt.scatter(X,Y,color = \"red\")\r\n",
        "plt.plot(X_grid,model.predict(X_grid),color = \"black\")\r\n",
        "plt.title(\"Support Vector Regression\")\r\n",
        "plt.xlabel(\"position\")\r\n",
        "plt.ylabel(\"salary\")\r\n",
        "plt.show()"
      ],
      "execution_count": 31,
      "outputs": [
        {
          "output_type": "stream",
          "text": [
            "(32,)\n"
          ],
          "name": "stdout"
        },
        {
          "output_type": "display_data",
          "data": {
            "image/png": "[encoded data removed]",
            "text/plain": [
              "<Figure size 432x288 with 1 Axes>"
            ]
          },
          "metadata": {
            "tags": [],
            "needs_background": "light"
          }
        }
      ]
    },
    {
      "cell_type": "code",
      "metadata": {
        "colab": {
          "base_uri": "https://localhost:8080/",
          "height": 295
        },
        "id": "B7lCViH2XVE0",
        "outputId": "8012e6b8-6f26-455f-84b3-5c76e1885059"
      },
      "source": [
        "plt.scatter(X,Y,color = \"red\")\r\n",
        "plt.plot(X,model.predict(X),color = \"black\")\r\n",
        "plt.title(\"Support Vector Regression\")\r\n",
        "plt.xlabel(\"position\")\r\n",
        "plt.ylabel(\"salary\")\r\n",
        "plt.show()"
      ],
      "execution_count": 32,
      "outputs": [
        {
          "output_type": "display_data",
          "data": {
            "image/png": "[encoded data removed]",
            "text/plain": [
              "<Figure size 432x288 with 1 Axes>"
            ]
          },
          "metadata": {
            "tags": [],
            "needs_background": "light"
          }
        }
      ]
    },
    {
      "cell_type": "code",
      "metadata": {
        "colab": {
          "base_uri": "https://localhost:8080/"
        },
        "id": "5qNyFvnYWLrR",
        "outputId": "2b02beb4-85bd-4733-9333-1bc233877308"
      },
      "source": [
        "model = SVR(kernel = 'poly')\r\n",
        "model.fit(X,Y)"
      ],
      "execution_count": 34,
      "outputs": [
        {
          "output_type": "stream",
          "text": [
            "/usr/local/lib/python3.6/dist-packages/sklearn/utils/validation.py:760: DataConversionWarning: A column-vector y was passed when a 1d array was expected. Please change the shape of y to (n_samples, ), for example using ravel().\n",
            "  y = column_or_1d(y, warn=True)\n"
          ],
          "name": "stderr"
        },
        {
          "output_type": "execute_result",
          "data": {
            "text/plain": [
              "SVR(C=1.0, cache_size=200, coef0=0.0, degree=3, epsilon=0.1, gamma='scale',\n",
              "    kernel='poly', max_iter=-1, shrinking=True, tol=0.001, verbose=False)"
            ]
          },
          "metadata": {
            "tags": []
          },
          "execution_count": 34
        }
      ]
    },
    {
      "cell_type": "code",
      "metadata": {
        "colab": {
          "base_uri": "https://localhost:8080/",
          "height": 295
        },
        "id": "6A6QaN0WX17v",
        "outputId": "60c80b93-7435-473c-cb0f-dcd00d93bec6"
      },
      "source": [
        "plt.scatter(X,Y,color = \"red\")\r\n",
        "plt.plot(X,model.predict(X),color = \"black\")\r\n",
        "plt.title(\"Support Vector Regression\")\r\n",
        "plt.xlabel(\"position\")\r\n",
        "plt.ylabel(\"salary\")\r\n",
        "plt.show()"
      ],
      "execution_count": 35,
      "outputs": [
        {
          "output_type": "display_data",
          "data": {
            "image/png": "[encoded data removed]",
            "text/plain": [
              "<Figure size 432x288 with 1 Axes>"
            ]
          },
          "metadata": {
            "tags": [],
            "needs_background": "light"
          }
        }
      ]
    },
    {
      "cell_type": "code",
      "metadata": {
        "id": "AixZR_iIX-N_"
      },
      "source": [
        ""
      ],
      "execution_count": 41,
      "outputs": []
    },
    {
      "cell_type": "code",
      "metadata": {
        "id": "619Gvur2YHlZ"
      },
      "source": [
        ""
      ],
      "execution_count": 41,
      "outputs": []
    },
    {
      "cell_type": "code",
      "metadata": {
        "id": "BGYPueK3Ynkc"
      },
      "source": [
        ""
      ],
      "execution_count": null,
      "outputs": []
    }
  ]
}