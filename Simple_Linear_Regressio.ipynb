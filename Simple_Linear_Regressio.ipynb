{
  "nbformat": 4,
  "nbformat_minor": 0,
  "metadata": {
    "colab": {
      "name": "Simple Linear Regressio.ipynb",
      "provenance": [],
      "mount_file_id": "1fRILPxz65nr6f7n5m2LGKRsUtrm0DX5w",
      "authorship_tag": "ABX9TyPqMcrLBAjOm0lfHO8WS5Dq",
      "include_colab_link": true
    },
    "kernelspec": {
      "name": "python3",
      "display_name": "Python 3"
    }
  },
  "cells": [
    {
      "cell_type": "markdown",
      "metadata": {
        "id": "view-in-github",
        "colab_type": "text"
      },
      "source": [
        "<a href=\"https://colab.research.google.com/github/amazingashis/Blog/blob/main/Simple_Linear_Regressio.ipynb\" target=\"_parent\"><img src=\"https://colab.research.google.com/assets/colab-badge.svg\" alt=\"Open In Colab\"/></a>"
      ]
    },
    {
      "cell_type": "code",
      "metadata": {
        "id": "KqqggETqJ9rt"
      },
      "source": [
        "import numpy as np\r\n",
        "import pandas as pd\r\n",
        "from sklearn.linear_model import LinearRegression\r\n",
        "import matplotlib.pyplot as plt\r\n",
        "import math\r\n",
        "from sklearn.metrics import mean_squared_error"
      ],
      "execution_count": 2,
      "outputs": []
    },
    {
      "cell_type": "code",
      "metadata": {
        "colab": {
          "base_uri": "https://localhost:8080/",
          "height": 195
        },
        "id": "zbvCDsejKJDk",
        "outputId": "e55afa3e-826a-484b-9f1c-94273e5d363a"
      },
      "source": [
        "data = pd.read_csv(\"/content/sample_data/headbrain.csv\")\r\n",
        "data.head()"
      ],
      "execution_count": 3,
      "outputs": [
        {
          "output_type": "execute_result",
          "data": {
            "text/html": [
              "<div>\n",
              "<style scoped>\n",
              "    .dataframe tbody tr th:only-of-type {\n",
              "        vertical-align: middle;\n",
              "    }\n",
              "\n",
              "    .dataframe tbody tr th {\n",
              "        vertical-align: top;\n",
              "    }\n",
              "\n",
              "    .dataframe thead th {\n",
              "        text-align: right;\n",
              "    }\n",
              "</style>\n",
              "<table border=\"1\" class=\"dataframe\">\n",
              "  <thead>\n",
              "    <tr style=\"text-align: right;\">\n",
              "      <th></th>\n",
              "      <th>Gender</th>\n",
              "      <th>Age Range</th>\n",
              "      <th>Head Size(cm^3)</th>\n",
              "      <th>Brain Weight(grams)</th>\n",
              "    </tr>\n",
              "  </thead>\n",
              "  <tbody>\n",
              "    <tr>\n",
              "      <th>0</th>\n",
              "      <td>1</td>\n",
              "      <td>1</td>\n",
              "      <td>4512</td>\n",
              "      <td>1530</td>\n",
              "    </tr>\n",
              "    <tr>\n",
              "      <th>1</th>\n",
              "      <td>1</td>\n",
              "      <td>1</td>\n",
              "      <td>3738</td>\n",
              "      <td>1297</td>\n",
              "    </tr>\n",
              "    <tr>\n",
              "      <th>2</th>\n",
              "      <td>1</td>\n",
              "      <td>1</td>\n",
              "      <td>4261</td>\n",
              "      <td>1335</td>\n",
              "    </tr>\n",
              "    <tr>\n",
              "      <th>3</th>\n",
              "      <td>1</td>\n",
              "      <td>1</td>\n",
              "      <td>3777</td>\n",
              "      <td>1282</td>\n",
              "    </tr>\n",
              "    <tr>\n",
              "      <th>4</th>\n",
              "      <td>1</td>\n",
              "      <td>1</td>\n",
              "      <td>4177</td>\n",
              "      <td>1590</td>\n",
              "    </tr>\n",
              "  </tbody>\n",
              "</table>\n",
              "</div>"
            ],
            "text/plain": [
              "   Gender  Age Range  Head Size(cm^3)  Brain Weight(grams)\n",
              "0       1          1             4512                 1530\n",
              "1       1          1             3738                 1297\n",
              "2       1          1             4261                 1335\n",
              "3       1          1             3777                 1282\n",
              "4       1          1             4177                 1590"
            ]
          },
          "metadata": {
            "tags": []
          },
          "execution_count": 3
        }
      ]
    },
    {
      "cell_type": "code",
      "metadata": {
        "colab": {
          "base_uri": "https://localhost:8080/"
        },
        "id": "BBJIMPp7PUd1",
        "outputId": "b1ba8f7a-fb0b-48bb-8e3d-d9180bdaf3cb"
      },
      "source": [
        "size = data['Head Size(cm^3)']\r\n",
        "weight = data['Brain Weight(grams)']\r\n",
        "print(size)\r\n",
        "print(weight)"
      ],
      "execution_count": 4,
      "outputs": [
        {
          "output_type": "stream",
          "text": [
            "0      4512\n",
            "1      3738\n",
            "2      4261\n",
            "3      3777\n",
            "4      4177\n",
            "       ... \n",
            "232    3214\n",
            "233    3394\n",
            "234    3233\n",
            "235    3352\n",
            "236    3391\n",
            "Name: Head Size(cm^3), Length: 237, dtype: int64\n",
            "0      1530\n",
            "1      1297\n",
            "2      1335\n",
            "3      1282\n",
            "4      1590\n",
            "       ... \n",
            "232    1110\n",
            "233    1215\n",
            "234    1104\n",
            "235    1170\n",
            "236    1120\n",
            "Name: Brain Weight(grams), Length: 237, dtype: int64\n"
          ],
          "name": "stdout"
        }
      ]
    },
    {
      "cell_type": "code",
      "metadata": {
        "colab": {
          "base_uri": "https://localhost:8080/",
          "height": 265
        },
        "id": "ie3F4drjPjD9",
        "outputId": "83c4b1f1-b478-471d-c776-4bbdb2f071db"
      },
      "source": [
        "plt.scatter(size,weight)\r\n",
        "plt.show()"
      ],
      "execution_count": 5,
      "outputs": [
        {
          "output_type": "display_data",
          "data": {
            "image/png": "[encoded data removed]",
            "text/plain": [
              "<Figure size 432x288 with 1 Axes>"
            ]
          },
          "metadata": {
            "tags": [],
            "needs_background": "light"
          }
        }
      ]
    },
    {
      "cell_type": "markdown",
      "metadata": {
        "id": "dToX7jEPPwr5"
      },
      "source": [
        "# Converting dataframes into NumPy Arrays"
      ]
    },
    {
      "cell_type": "code",
      "metadata": {
        "id": "9kYtb9jcPtx8"
      },
      "source": [
        "x = np.array(size).reshape(-1,1)\r\n",
        "y = np.array(weight).reshape(-1,1)"
      ],
      "execution_count": 6,
      "outputs": []
    },
    {
      "cell_type": "code",
      "metadata": {
        "colab": {
          "base_uri": "https://localhost:8080/"
        },
        "id": "yUwJc-hUP66h",
        "outputId": "c45315ed-594b-4789-9628-b35d8fa7e7db"
      },
      "source": [
        "model = LinearRegression()\r\n",
        "model.fit(x,y)"
      ],
      "execution_count": 8,
      "outputs": [
        {
          "output_type": "execute_result",
          "data": {
            "text/plain": [
              "LinearRegression(copy_X=True, fit_intercept=True, n_jobs=None, normalize=False)"
            ]
          },
          "metadata": {
            "tags": []
          },
          "execution_count": 8
        }
      ]
    },
    {
      "cell_type": "code",
      "metadata": {
        "colab": {
          "base_uri": "https://localhost:8080/"
        },
        "id": "VO0Xm439QA_1",
        "outputId": "ea97b0aa-6279-4dfd-aa31-d04f5837ca19"
      },
      "source": [
        "regression_model_mse = mean_squared_error(x,y)\r\n",
        "print('Mean Squared Error:\\t',math.sqrt(regression_model_mse))\r\n",
        "print(\"R squared value\\t\\t\",model.score(x,y))"
      ],
      "execution_count": 10,
      "outputs": [
        {
          "output_type": "stream",
          "text": [
            "Mean Squared Error:\t 2367.495611943946\n",
            "R squared value\t\t 0.639311719957\n"
          ],
          "name": "stdout"
        }
      ]
    },
    {
      "cell_type": "code",
      "metadata": {
        "id": "WK6yQyYsQL2t"
      },
      "source": [
        ""
      ],
      "execution_count": null,
      "outputs": []
    }
  ]
}