{
  "nbformat": 4,
  "nbformat_minor": 0,
  "metadata": {
    "colab": {
      "name": "Simple Linear Regression_Blog 6.ipynb",
      "provenance": [],
      "mount_file_id": "1fRILPxz65nr6f7n5m2LGKRsUtrm0DX5w",
      "authorship_tag": "ABX9TyN4q4/v5DR/josRnsxcGuBt",
      "include_colab_link": true
    },
    "kernelspec": {
      "name": "python3",
      "display_name": "Python 3"
    }
  },
  "cells": [
    {
      "cell_type": "markdown",
      "metadata": {
        "id": "view-in-github",
        "colab_type": "text"
      },
      "source": [
        "<a href=\"https://colab.research.google.com/github/amazingashis/Blog/blob/main/Simple_Linear_Regression_Blog_6.ipynb\" target=\"_parent\"><img src=\"https://colab.research.google.com/assets/colab-badge.svg\" alt=\"Open In Colab\"/></a>"
      ]
    },
    {
      "cell_type": "markdown",
      "metadata": {
        "id": "ZONEtUP2uKsP"
      },
      "source": [
        "# **Import Library**"
      ]
    },
    {
      "cell_type": "code",
      "metadata": {
        "id": "KqqggETqJ9rt"
      },
      "source": [
        "import numpy as np\n",
        "import pandas as pd\n",
        "from sklearn.linear_model import LinearRegression\n",
        "import matplotlib.pyplot as plt\n",
        "import math\n",
        "from sklearn.metrics import mean_squared_error"
      ],
      "execution_count": 8,
      "outputs": []
    },
    {
      "cell_type": "markdown",
      "metadata": {
        "id": "Y2AxejbCvD1z"
      },
      "source": [
        "# **Read Data and Analyse**"
      ]
    },
    {
      "cell_type": "code",
      "metadata": {
        "colab": {
          "base_uri": "https://localhost:8080/",
          "height": 195
        },
        "id": "zbvCDsejKJDk",
        "outputId": "69dd8ec3-a55b-4687-8216-8c83542574d4"
      },
      "source": [
        "data = pd.read_csv(\"/content/drive/MyDrive/Data/headbrain.csv\")\n",
        "data.head()"
      ],
      "execution_count": 3,
      "outputs": [
        {
          "output_type": "execute_result",
          "data": {
            "text/html": [
              "<div>\n",
              "<style scoped>\n",
              "    .dataframe tbody tr th:only-of-type {\n",
              "        vertical-align: middle;\n",
              "    }\n",
              "\n",
              "    .dataframe tbody tr th {\n",
              "        vertical-align: top;\n",
              "    }\n",
              "\n",
              "    .dataframe thead th {\n",
              "        text-align: right;\n",
              "    }\n",
              "</style>\n",
              "<table border=\"1\" class=\"dataframe\">\n",
              "  <thead>\n",
              "    <tr style=\"text-align: right;\">\n",
              "      <th></th>\n",
              "      <th>Gender</th>\n",
              "      <th>Age Range</th>\n",
              "      <th>Head Size(cm^3)</th>\n",
              "      <th>Brain Weight(grams)</th>\n",
              "    </tr>\n",
              "  </thead>\n",
              "  <tbody>\n",
              "    <tr>\n",
              "      <th>0</th>\n",
              "      <td>1</td>\n",
              "      <td>1</td>\n",
              "      <td>4512</td>\n",
              "      <td>1530</td>\n",
              "    </tr>\n",
              "    <tr>\n",
              "      <th>1</th>\n",
              "      <td>1</td>\n",
              "      <td>1</td>\n",
              "      <td>3738</td>\n",
              "      <td>1297</td>\n",
              "    </tr>\n",
              "    <tr>\n",
              "      <th>2</th>\n",
              "      <td>1</td>\n",
              "      <td>1</td>\n",
              "      <td>4261</td>\n",
              "      <td>1335</td>\n",
              "    </tr>\n",
              "    <tr>\n",
              "      <th>3</th>\n",
              "      <td>1</td>\n",
              "      <td>1</td>\n",
              "      <td>3777</td>\n",
              "      <td>1282</td>\n",
              "    </tr>\n",
              "    <tr>\n",
              "      <th>4</th>\n",
              "      <td>1</td>\n",
              "      <td>1</td>\n",
              "      <td>4177</td>\n",
              "      <td>1590</td>\n",
              "    </tr>\n",
              "  </tbody>\n",
              "</table>\n",
              "</div>"
            ],
            "text/plain": [
              "   Gender  Age Range  Head Size(cm^3)  Brain Weight(grams)\n",
              "0       1          1             4512                 1530\n",
              "1       1          1             3738                 1297\n",
              "2       1          1             4261                 1335\n",
              "3       1          1             3777                 1282\n",
              "4       1          1             4177                 1590"
            ]
          },
          "metadata": {
            "tags": []
          },
          "execution_count": 3
        }
      ]
    },
    {
      "cell_type": "code",
      "metadata": {
        "colab": {
          "base_uri": "https://localhost:8080/"
        },
        "id": "BBJIMPp7PUd1",
        "outputId": "13ea1f32-58c5-42f1-fe31-89377c1d4ddd"
      },
      "source": [
        "size = data['Head Size(cm^3)']\n",
        "weight = data['Brain Weight(grams)']\n",
        "print(size)\n",
        "print(weight)"
      ],
      "execution_count": 9,
      "outputs": [
        {
          "output_type": "stream",
          "text": [
            "0      4512\n",
            "1      3738\n",
            "2      4261\n",
            "3      3777\n",
            "4      4177\n",
            "       ... \n",
            "232    3214\n",
            "233    3394\n",
            "234    3233\n",
            "235    3352\n",
            "236    3391\n",
            "Name: Head Size(cm^3), Length: 237, dtype: int64\n",
            "0      1530\n",
            "1      1297\n",
            "2      1335\n",
            "3      1282\n",
            "4      1590\n",
            "       ... \n",
            "232    1110\n",
            "233    1215\n",
            "234    1104\n",
            "235    1170\n",
            "236    1120\n",
            "Name: Brain Weight(grams), Length: 237, dtype: int64\n"
          ],
          "name": "stdout"
        }
      ]
    },
    {
      "cell_type": "markdown",
      "metadata": {
        "id": "JX6a-xhsulh4"
      },
      "source": [
        "\n",
        "# **Visualizing Dataset**"
      ]
    },
    {
      "cell_type": "code",
      "metadata": {
        "colab": {
          "base_uri": "https://localhost:8080/",
          "height": 265
        },
        "id": "ie3F4drjPjD9",
        "outputId": "e7807a44-095d-42a3-8913-daa4ed4a26d6"
      },
      "source": [
        "plt.scatter(size,weight)\n",
        "plt.show()"
      ],
      "execution_count": 10,
      "outputs": [
        {
          "output_type": "display_data",
          "data": {
            "image/png": "[encoded data removed]",
            "text/plain": [
              "<Figure size 432x288 with 1 Axes>"
            ]
          },
          "metadata": {
            "tags": [],
            "needs_background": "light"
          }
        }
      ]
    },
    {
      "cell_type": "markdown",
      "metadata": {
        "id": "dToX7jEPPwr5"
      },
      "source": [
        "# Converting dataframes into NumPy Arrays"
      ]
    },
    {
      "cell_type": "code",
      "metadata": {
        "id": "9kYtb9jcPtx8"
      },
      "source": [
        "x = np.array(size).reshape(-1,1)\n",
        "y = np.array(weight).reshape(-1,1)"
      ],
      "execution_count": 11,
      "outputs": []
    },
    {
      "cell_type": "markdown",
      "metadata": {
        "id": "tsEEMg9nutMb"
      },
      "source": [
        "# **Training the Model**"
      ]
    },
    {
      "cell_type": "code",
      "metadata": {
        "colab": {
          "base_uri": "https://localhost:8080/"
        },
        "id": "yUwJc-hUP66h",
        "outputId": "a684470b-3281-4aee-d3e7-56748d00b7f2"
      },
      "source": [
        "model = LinearRegression()\n",
        "model.fit(x,y)"
      ],
      "execution_count": 12,
      "outputs": [
        {
          "output_type": "execute_result",
          "data": {
            "text/plain": [
              "LinearRegression(copy_X=True, fit_intercept=True, n_jobs=None, normalize=False)"
            ]
          },
          "metadata": {
            "tags": []
          },
          "execution_count": 12
        }
      ]
    },
    {
      "cell_type": "markdown",
      "metadata": {
        "id": "aARZDXgRu2zg"
      },
      "source": [
        "# **Mean Sqaured Error & R - Squared Value**"
      ]
    },
    {
      "cell_type": "code",
      "metadata": {
        "colab": {
          "base_uri": "https://localhost:8080/"
        },
        "id": "VO0Xm439QA_1",
        "outputId": "231167d2-f6ed-4516-85d2-7a86a03158dd"
      },
      "source": [
        "regression_model_mse = mean_squared_error(x,y)\n",
        "print('Mean Squared Error:\\t',math.sqrt(regression_model_mse))\n",
        "print(\"R squared value\\t\\t\",model.score(x,y))"
      ],
      "execution_count": 13,
      "outputs": [
        {
          "output_type": "stream",
          "text": [
            "Mean Squared Error:\t 2367.495611943946\n",
            "R squared value\t\t 0.639311719957\n"
          ],
          "name": "stdout"
        }
      ]
    },
    {
      "cell_type": "markdown",
      "metadata": {
        "id": "0bYB298Eu-Bi"
      },
      "source": [
        "# **Visualization**"
      ]
    },
    {
      "cell_type": "code",
      "metadata": {
        "colab": {
          "base_uri": "https://localhost:8080/",
          "height": 313
        },
        "id": "x71n3iiZu61N",
        "outputId": "a9495788-c87a-467c-ab12-c5256e38007a"
      },
      "source": [
        "plt.scatter(x,y,color = 'orange')\n",
        "plt.plot(x,model.predict(x),color = 'black')\n",
        "plt.title('Trained Linear Regression')\n",
        "plt.xlabel('Size')\n",
        "plt.ylabel('Weight')"
      ],
      "execution_count": 15,
      "outputs": [
        {
          "output_type": "execute_result",
          "data": {
            "text/plain": [
              "Text(0, 0.5, 'Weight')"
            ]
          },
          "metadata": {
            "tags": []
          },
          "execution_count": 15
        },
        {
          "output_type": "display_data",
          "data": {
            "image/png": "[encoded data removed]",
            "text/plain": [
              "<Figure size 432x288 with 1 Axes>"
            ]
          },
          "metadata": {
            "tags": [],
            "needs_background": "light"
          }
        }
      ]
    },
    {
      "cell_type": "markdown",
      "metadata": {
        "id": "VvuK0u6nvLr0"
      },
      "source": [
        "# **Prediction**"
      ]
    },
    {
      "cell_type": "code",
      "metadata": {
        "colab": {
          "base_uri": "https://localhost:8080/"
        },
        "id": "JzbG9NnrvAPJ",
        "outputId": "3f2c3ecb-3773-4f47-f544-9e2d55f9cebe"
      },
      "source": [
        "predict = model.predict([[550]])\n",
        "print('The value is ',predict ,'for Brain size 550')"
      ],
      "execution_count": 22,
      "outputs": [
        {
          "output_type": "stream",
          "text": [
            "The value is  [[470.45955777]] for Brain size 550\n"
          ],
          "name": "stdout"
        }
      ]
    },
    {
      "cell_type": "code",
      "metadata": {
        "id": "WK6yQyYsQL2t"
      },
      "source": [
        ""
      ],
      "execution_count": null,
      "outputs": []
    }
  ]
}